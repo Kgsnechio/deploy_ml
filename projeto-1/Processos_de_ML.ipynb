{
 "cells": [
  {
   "cell_type": "markdown",
   "id": "00a44caf",
   "metadata": {},
   "source": [
    "# Passos para criação de machine learning\n",
    "\n",
    "    1 - Entendimento do Dominio\n",
    "    2 - Coleta e preparação de dados\n",
    "    3 - Exploração e Analise de Dados\n",
    "    4 - Seleção e Engenharia de Atributos\n",
    "    5 - Construcao e Avalição de Modelos\n",
    "    6 - Otimização de Hiperparâmetros\n",
    "    7 - Validação Cruzada\n",
    "    8 - Deploy do Modelo\n",
    "    9 - Iterção e Melhoria Contínua\n"
   ]
  },
  {
   "cell_type": "markdown",
   "id": "c7396145",
   "metadata": {},
   "source": [
    "## 1 - Entendimento do Dominio\n",
    "\n",
    "    - Definição do problema\n",
    "    - especificidades da área\n",
    "    - conpreender nuances\n",
    "    - desafios e questões especificas\n",
    "    - contexto\n",
    "    \n",
    "    "
   ]
  },
  {
   "cell_type": "markdown",
   "id": "0f007d2f",
   "metadata": {},
   "source": [
    "# 2 - Coleta e preparação de dados\n",
    "\n",
    "    - Levantamento de Dados\n",
    "    - identificar fontes de dados\n",
    "    - reunir conjunto de diferentes fontes\n",
    "    - limpeza e pré-processamento\n",
    "    - consistencia\n",
    "    - relevancia\n",
    "    - livre de erros ou ruídos indesejados"
   ]
  },
  {
   "cell_type": "markdown",
   "id": "c94c45c7",
   "metadata": {},
   "source": [
    "# 3 - Exploração e Analise de Dados\n",
    "\n",
    "    - Entender estrutura\n",
    "    - Distribuições e padrões\n",
    "    - Visualização de dados\n",
    "    - Estátistica descritiva\n",
    "    - Anomalias ou outliers\n",
    "    - Base solida"
   ]
  },
  {
   "cell_type": "markdown",
   "id": "c8c706cc",
   "metadata": {},
   "source": [
    "# 4 - Seleção e Engenharia de Atributos\n",
    "\n",
    "    - Variaveis relevantes e ulteis\n",
    "    - Informativos e descritivos\n",
    "    - Criação de novos atributos\n",
    "    - Classificações\n",
    "    - Pipelines\n",
    "    - Representar os padrões"
   ]
  },
  {
   "cell_type": "markdown",
   "id": "efa95cca",
   "metadata": {},
   "source": [
    "# 5 - Construcao e Avalição de Modelos\n",
    "\n",
    "    - Testes e esperimentação\n",
    "    - Avaliar desempenhos\n",
    "    - Precisão, robustez e generalização\n",
    "    - Almoritimos diversificados\n",
    "    - Treino e testes"
   ]
  },
  {
   "cell_type": "markdown",
   "id": "7779feb3",
   "metadata": {},
   "source": [
    "# 6 - Otimização de Hiperparâmetros\n",
    "\n",
    "    - Otimização de modelos\n",
    "    - Testes e esperimentação\n",
    "    - Avaliar desempenhos\n",
    "    - Ajudam o modelo no treinamento"
   ]
  },
  {
   "cell_type": "markdown",
   "id": "94e7ae9d",
   "metadata": {},
   "source": [
    "# 7 - Validação Cruzada\n",
    "\n",
    "    - Teste de generalização \n",
    "    - Divide o conjunto de dados\n",
    "    - Treina em diferentes combinações de dados\n",
    "    - O modelo bem generalizado performa bem em dados não vistos\n",
    "    - Tratativa para underfiting e overfiting"
   ]
  },
  {
   "cell_type": "markdown",
   "id": "570b302f",
   "metadata": {},
   "source": [
    "# 8 - Deploy do Modelo\n",
    "\n",
    "    - Modelo para produção\n",
    "    - Disponibilizado em ambiente para realizar as previsões\n",
    "    - Api, Etls, aplicações\n"
   ]
  },
  {
   "cell_type": "markdown",
   "id": "6d5af378",
   "metadata": {},
   "source": [
    "# 9 - Iterção e Melhoria Contínua\n",
    "\n",
    "    - Acompanhar desempenho\n",
    "    - Retreinamento\n",
    "    - Mudanças de padrões\n",
    "    - Melhoria continua\n",
    "    - Refinar e manter a relevancia do modelo\n",
    "    - Pipe line para gerar modelo"
   ]
  }
 ],
 "metadata": {
  "kernelspec": {
   "display_name": "Python 3 (ipykernel)",
   "language": "python",
   "name": "python3"
  },
  "language_info": {
   "codemirror_mode": {
    "name": "ipython",
    "version": 3
   },
   "file_extension": ".py",
   "mimetype": "text/x-python",
   "name": "python",
   "nbconvert_exporter": "python",
   "pygments_lexer": "ipython3",
   "version": "3.9.12"
  }
 },
 "nbformat": 4,
 "nbformat_minor": 5
}
